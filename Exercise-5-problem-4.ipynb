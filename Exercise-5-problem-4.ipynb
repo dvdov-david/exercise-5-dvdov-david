{
 "cells": [
  {
   "cell_type": "markdown",
   "metadata": {
    "deletable": false,
    "editable": false,
    "nbgrader": {
     "cell_type": "markdown",
     "checksum": "1c62a841213d9dbc740733979e114827",
     "grade": false,
     "grade_id": "cell-8f87d3f057af49f1",
     "locked": true,
     "schema_version": 3,
     "solution": false,
     "task": false
    }
   },
   "source": [
    "## Problem 4 (*optional*) - Parsing daily temperatures\n",
    "\n",
    "**This is an optional task for those who want more practice.** This problem is more challenging as we provide only minimal instructions for completing the given tasks. You will need to search Pandas documentation (and other resources) for help. We will cover data aggregation in more detail during week 6 lesson, so this is a good opportunity to get a head start for next week!\n",
    "\n",
    "In this problem, the aim is to aggregate the hourly temperature data for Helsinki Kumpula and Rovaniemi weather stations to a daily level. Currently, there are (at most) 3 measurements per hour in the data as you can see from the `YR--MODAHRMN` column (Year-Month-Day-Hour-Minute in Greenwich Mean Time (GMT):\n",
    "\n",
    "```\n",
    "\n",
    "    USAF  YR--MODAHRMN  TEMP  MAX  MIN  Celsius\n",
    "0  28450  201705010000  31.0  NaN  NaN       -1\n",
    "1  28450  201705010020  30.0  NaN  NaN       -1\n",
    "2  28450  201705010050  30.0  NaN  NaN       -1\n",
    "3  28450  201705010100  31.0  NaN  NaN       -1\n",
    "4  28450  201705010120  30.0  NaN  NaN       -1\n",
    "\n",
    "```\n",
    "\n",
    "The output should contain mean, max and min Celsius temperatures for each day (for example, one mean temperature value for 1st of May and so on).\n",
    "\n",
    "\n",
    "### What to do\n",
    "\n",
    "- Your task is to summarize the information for each day by aggregating (grouping) the dataframe.\n",
    "- The output should be a new DataFrame where you have calculated mean, max and min Celsius temperatures for each day separately based on hourly values.\n",
    "- Repeat the task for the two data sets you created in Problem 2 (May-August temperatures from Rovaniemi and Kumpula).\n",
    "\n",
    "Don't forget to:\n",
    "\n",
    "- Include useful comments in your code\n",
    "- Push your solution to GitHub\n",
    "\n",
    "### Hint\n",
    "\n",
    "You can find help from the [Pandas Official documentation](https://pandas.pydata.org/pandas-docs/stable/) and Google. Don't hestiate to ask for tips in Slack!"
   ]
  },
  {
   "cell_type": "code",
   "execution_count": 4,
   "metadata": {
    "deletable": false,
    "nbgrader": {
     "cell_type": "code",
     "checksum": "71f685a62c58703b2de3ecec535adf13",
     "grade": true,
     "grade_id": "problem_4_mg_p1_do_it_all",
     "locked": false,
     "points": 0,
     "schema_version": 3,
     "solution": true,
     "task": false
    }
   },
   "outputs": [],
   "source": [
    "# YOUR CODE HERE\n",
    "# raise NotImplementedError()\n",
    "\n",
    "#0. import pandas library\n",
    "import pandas as pd\n",
    "\n",
    "#1. Reading separate files for each station\n",
    "path_kumpula = r'C:/Users/David/Documents/Notebooks/Helsinski_course/Ejercicios/Github/exercise-5-dvdov-david/data/Kumpula_temps_May_Aug_2017.csv'\n",
    "path_rovaniemi = r'C:/Users/David/Documents/Notebooks/Helsinski_course/Ejercicios/Github/exercise-5-dvdov-david/data/Rovaniemi_temps_May_Aug_2017.csv'\n",
    "kumpula = pd.read_csv(path_kumpula, sep = ',')\n",
    "rovaniemi = pd.read_csv(path_rovaniemi, sep = ',')"
   ]
  },
  {
   "cell_type": "code",
   "execution_count": 7,
   "metadata": {},
   "outputs": [
    {
     "name": "stdout",
     "output_type": "stream",
     "text": [
      "Kumpula data: \n",
      ":     USAF  YR--MODAHRMN  TEMP  MAX  MIN  Celsius\n",
      "0  29980  201705010000  37.0  NaN  NaN        3\n",
      "1  29980  201705010100  37.0  NaN  NaN        3\n",
      "2  29980  201705010200  37.0  NaN  NaN        3\n",
      "3  29980  201705010300  37.0  NaN  NaN        3\n",
      "4  29980  201705010400  39.0  NaN  NaN        4\n",
      "\n",
      "Rovaniemi data\n",
      ":     USAF  YR--MODAHRMN  TEMP  MAX  MIN  Celsius\n",
      "0  28450  201705010000  31.0  NaN  NaN       -1\n",
      "1  28450  201705010020  30.0  NaN  NaN       -1\n",
      "2  28450  201705010050  30.0  NaN  NaN       -1\n",
      "3  28450  201705010100  31.0  NaN  NaN       -1\n",
      "4  28450  201705010120  30.0  NaN  NaN       -1\n"
     ]
    }
   ],
   "source": [
    "#2. Checking data\n",
    "\n",
    "print('Kumpula data: \\n:',kumpula.head())\n",
    "print('')\n",
    "print('Rovaniemi data\\n:',rovaniemi.head())"
   ]
  },
  {
   "cell_type": "code",
   "execution_count": 51,
   "metadata": {},
   "outputs": [
    {
     "name": "stdout",
     "output_type": "stream",
     "text": [
      "kumpala day field:\n",
      " 0       20170501\n",
      "1       20170501\n",
      "2       20170501\n",
      "3       20170501\n",
      "4       20170501\n",
      "          ...   \n",
      "2919    20170831\n",
      "2920    20170831\n",
      "2921    20170831\n",
      "2922    20170831\n",
      "2923    20170831\n",
      "Name: day, Length: 2924, dtype: object \n",
      "\n",
      "rovaniemi day field:\n",
      " 0       20170501\n",
      "1       20170501\n",
      "2       20170501\n",
      "3       20170501\n",
      "4       20170501\n",
      "          ...   \n",
      "8762    20170831\n",
      "8763    20170831\n",
      "8764    20170831\n",
      "8765    20170831\n",
      "8766    20170831\n",
      "Name: day, Length: 8767, dtype: object \n",
      "\n"
     ]
    }
   ],
   "source": [
    "#3. Grouping celsius temperature by day \n",
    "\n",
    "#kumpula.groupby(by='Celsius').describe() -- just testing: interesting results\n",
    "\n",
    "# 3.1 create a new field with day as string that will be used as groupby column\n",
    "kumpula['day'] = kumpula['YR--MODAHRMN'].astype(str)\n",
    "kumpula['day'] = kumpula['day'].str.slice(0,8,1)\n",
    "\n",
    "rovaniemi['day'] = rovaniemi['YR--MODAHRMN'].astype(str)\n",
    "rovaniemi['day'] = rovaniemi['day'].str.slice(0,8,1)\n",
    "\n",
    "#checking results\n",
    "print('kumpala day field:\\n',kumpula['day'],'\\n')\n",
    "print('rovaniemi day field:\\n',rovaniemi['day'],'\\n')\n"
   ]
  },
  {
   "cell_type": "code",
   "execution_count": 54,
   "metadata": {},
   "outputs": [],
   "source": [
    "#3.2 selecting summary statistics required from aggregated column\n",
    "kumpula_aggreg = kumpula.groupby(by='day')['Celsius'].describe()[['mean','min','max']]\n",
    "rovaniemi_aggreg = rovaniemi.groupby(by='day')['Celsius'].describe()[['mean','min','max']]"
   ]
  },
  {
   "cell_type": "code",
   "execution_count": 55,
   "metadata": {},
   "outputs": [
    {
     "name": "stdout",
     "output_type": "stream",
     "text": [
      "mean, min and max celsius temperature for every day in kumpala station: \n",
      "                mean   min   max\n",
      "day                            \n",
      "20170501   7.625000   3.0  12.0\n",
      "20170502   9.750000   2.0  16.0\n",
      "20170503   9.208333   4.0  13.0\n",
      "20170504   6.666667   3.0  11.0\n",
      "20170505  10.250000   2.0  17.0\n",
      "...             ...   ...   ...\n",
      "20170827  10.625000   6.0  14.0\n",
      "20170828  11.826087   9.0  16.0\n",
      "20170829  14.500000   8.0  17.0\n",
      "20170830  16.833333  15.0  19.0\n",
      "20170831  17.250000  16.0  19.0\n",
      "\n",
      "[123 rows x 3 columns]\n",
      "mean, min and max celsius temperature for every day in kumpala station: \n",
      "                mean  min   max\n",
      "day                           \n",
      "20170501   2.180556 -1.0   7.0\n",
      "20170502   3.402778  1.0   7.0\n",
      "20170503   2.112676 -1.0   4.0\n",
      "20170504   4.388889 -1.0   9.0\n",
      "20170505   6.916667  1.0  12.0\n",
      "...             ...  ...   ...\n",
      "20170827   7.690141  5.0  10.0\n",
      "20170828   9.138889  3.0  13.0\n",
      "20170829  10.722222  8.0  12.0\n",
      "20170830  11.291667  9.0  14.0\n",
      "20170831  12.000000  8.0  17.0\n",
      "\n",
      "[123 rows x 3 columns]\n"
     ]
    }
   ],
   "source": [
    "#cheking results\n",
    "\n",
    "print('mean, min and max celsius temperature for every day in kumpala station: \\n',kumpula_aggreg)\n",
    "\n",
    "print('mean, min and max celsius temperature for every day in kumpala station: \\n',rovaniemi_aggreg )"
   ]
  },
  {
   "cell_type": "code",
   "execution_count": null,
   "metadata": {},
   "outputs": [],
   "source": []
  }
 ],
 "metadata": {
  "anaconda-cloud": {},
  "kernelspec": {
   "display_name": "Python 3",
   "language": "python",
   "name": "python3"
  },
  "language_info": {
   "codemirror_mode": {
    "name": "ipython",
    "version": 3
   },
   "file_extension": ".py",
   "mimetype": "text/x-python",
   "name": "python",
   "nbconvert_exporter": "python",
   "pygments_lexer": "ipython3",
   "version": "3.8.5"
  }
 },
 "nbformat": 4,
 "nbformat_minor": 4
}
